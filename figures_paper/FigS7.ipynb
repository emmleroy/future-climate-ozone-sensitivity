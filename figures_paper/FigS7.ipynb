{
 "cells": [
  {
   "cell_type": "code",
   "execution_count": 1,
   "metadata": {},
   "outputs": [],
   "source": [
    "from src import tools\n",
    "import xarray as xr \n",
    "import matplotlib.pyplot as plt\n",
    "import seaborn as sns \n",
    "from scipy import stats \n",
    "import numpy as np \n",
    "from gcpy import single_panel\n",
    "\n",
    "import regionmask\n",
    "import cartopy.crs as ccrs \n",
    "import cmaps \n",
    "import matplotlib as mpl \n",
    "import cartopy.feature as cfeature\n",
    "\n",
    "\n",
    "import warnings\n",
    "warnings.filterwarnings(\"ignore\")\n",
    "\n",
    "%matplotlib inline\n",
    "%load_ext autoreload\n",
    "%autoreload 2"
   ]
  },
  {
   "cell_type": "code",
   "execution_count": null,
   "metadata": {},
   "outputs": [],
   "source": [
    "ref_ds_emis = xr.open_dataset(\"/home/eleroy/proj-dirs/OZCLIM/data/analysis_data/GCHP_CAM_public/GCHP.all_ref_c48.Emissions.april-august.nc4\")\n",
    "refshort_ds_emis = xr.open_dataset(\"/home/eleroy/proj-dirs/OZCLIM/data/analysis_data/GCHP_CAM_public/GCHP.all_refshort_c48.Emissions.april-august.nc4\")\n",
    "\n",
    "ref_ds_spec = xr.open_dataset(\"/home/eleroy/proj-dirs/OZCLIM/data/analysis_data/GCHP_CAM_public/GCHP.all_ref_c48.SpeciesConc.april-august.nc4\")\n",
    "refshort_ds_spec = xr.open_dataset(\"/home/eleroy/proj-dirs/OZCLIM/data/analysis_data/GCHP_CAM_public/GCHP.all_refshort_c48.SpeciesConc.april-august.nc4\")\n"
   ]
  },
  {
   "cell_type": "code",
   "execution_count": 3,
   "metadata": {},
   "outputs": [],
   "source": [
    "# Extract ozone season only\n",
    "months = [4,5,6,7,8]\n",
    "ref_ds_emis_selected = ref_ds_emis.sel(time=ref_ds_emis.time.dt.month.isin(months))\n",
    "refshort_ds_emis_selected = refshort_ds_emis.sel(time=refshort_ds_emis.time.dt.month.isin(months))\n",
    "ref_ds_spec_selected = ref_ds_spec.sel(time=ref_ds_spec.time.dt.month.isin(months))\n",
    "refshort_ds_spec_selected = refshort_ds_spec.sel(time=refshort_ds_spec.time.dt.month.isin(months))"
   ]
  },
  {
   "cell_type": "code",
   "execution_count": null,
   "metadata": {},
   "outputs": [
    {
     "name": "stdout",
     "output_type": "stream",
     "text": [
      "Total days between April 1 and August 31: 2448\n"
     ]
    }
   ],
   "source": [
    "# Count total number of days between April and August\n",
    "import pandas as pd\n",
    "time_index = pd.to_datetime(ref_ds_emis.time.values)\n",
    "april_aug_mask = (time_index.month >= 4) & (time_index.month <= 8)\n",
    "total_days = april_aug_mask.sum()\n",
    "print(f\"Total days between April 1 and August 31: {total_days}\")"
   ]
  },
  {
   "cell_type": "code",
   "execution_count": 5,
   "metadata": {},
   "outputs": [],
   "source": [
    "rsSPEC = refshort_ds_spec_selected\n",
    "rSPEC = ref_ds_spec_selected\n",
    "\n",
    "rsEMIS = refshort_ds_emis_selected\n",
    "rEMIS = ref_ds_emis_selected"
   ]
  },
  {
   "cell_type": "code",
   "execution_count": 6,
   "metadata": {},
   "outputs": [],
   "source": [
    "# Extract time-averaged soil NO and biogenic isoprene\n",
    "ref_soilNO = rEMIS['EmisNO_Soil'].mean(dim=['sim','time'])\n",
    "refshort_soilNO = rsEMIS['EmisNO_Soil'].mean(dim=['sim','time'])\n",
    "\n",
    "ref_bioISOP = rEMIS['EmisISOP_Biogenic'].mean(dim=['sim','time'])\n",
    "refshort_bioISOP = rsEMIS['EmisISOP_Biogenic'].mean(dim=['sim','time'])\n",
    "\n",
    "# Extract time-averaged PAN and HOx concentrations\n",
    "ref_PAN = rSPEC['SpeciesConc_PAN'].mean(dim=['sim','time'])\n",
    "refshort_PAN = rsSPEC['SpeciesConc_PAN'].mean(dim=['sim','time'])\n",
    "\n",
    "ref_OH = rSPEC['SpeciesConc_OH'].mean(dim=['sim','time'])\n",
    "refshort_OH = rsSPEC['SpeciesConc_OH'].mean(dim=['sim','time'])\n",
    "\n",
    "ref_HO2 = rSPEC['SpeciesConc_HO2'].mean(dim=['sim','time'])\n",
    "refshort_HO2 = rsSPEC['SpeciesConc_HO2'].mean(dim=['sim','time'])\n",
    "\n",
    "ref_HOx = ref_OH + ref_HO2\n",
    "refshort_HOx = refshort_OH + refshort_HO2"
   ]
  },
  {
   "cell_type": "code",
   "execution_count": 7,
   "metadata": {},
   "outputs": [],
   "source": [
    "# Calculate absolute difference \n",
    "# 1000g/kg * (14/30) kgN/kgNO * 86400 s/day * 2448 total number of days between April-August\n",
    "scale_factor = 1000 * (14/30) * 86400 * 2448 \n",
    "abs_diff_soilNO = (refshort_soilNO-ref_soilNO) * scale_factor\n",
    "abs_diff_soilNO.attrs['units'] = 'gN/m2/yr' # range: -0.2 - 0.2\n",
    "\n",
    "# 1000g/kg * (60.06/68.12) kgC/kgISOP * 86400 s/day * 2448 total number of days between April-August\n",
    "scale_factor = 1000 * (60.06/68.12)  * 86400 * 2448 \n",
    "abs_diff_bioISOP = (refshort_bioISOP-ref_bioISOP) * scale_factor\n",
    "abs_diff_bioISOP.attrs['units'] = 'gC/m2/yr' # range: -6 - 6\n",
    "\n",
    "abs_diff_PAN = (refshort_PAN-ref_PAN) * 1e9\n",
    "abs_diff_PAN.attrs['units'] = 'ppbv' # range: -0.2 - 0.2\n",
    "\n",
    "abs_diff_HOx = (refshort_HOx-ref_HOx) * 1e12\n",
    "abs_diff_HOx.attrs['units'] = 'pptv'  # range: -2 - 2"
   ]
  },
  {
   "cell_type": "code",
   "execution_count": 8,
   "metadata": {},
   "outputs": [],
   "source": [
    "# Calculate percent difference \n",
    "pct_diff_soilNO = ((refshort_soilNO-ref_soilNO)/ref_soilNO) * 100\n",
    "pct_diff_soilNO.attrs['units'] = '% change' # range: 0-100\n",
    "\n",
    "pct_diff_bioISOP = ((refshort_bioISOP-ref_bioISOP)/ref_bioISOP) * 100\n",
    "pct_diff_bioISOP.attrs['units'] = '% change' # range: 0-100\n",
    "\n",
    "pct_diff_PAN = ((refshort_PAN-ref_PAN)/ref_PAN) * 100\n",
    "pct_diff_PAN.attrs['units'] = '% change' # range: 0-100\n",
    "\n",
    "pct_diff_HOx = ((refshort_HOx-ref_HOx)/ref_HOx) * 100\n",
    "pct_diff_HOx.attrs['units'] = '% change' # range: 0-100\n"
   ]
  },
  {
   "cell_type": "code",
   "execution_count": null,
   "metadata": {},
   "outputs": [],
   "source": [
    "tools.set_matplotlib_font(\"Arial\")\n",
    "fig, ax = plt.subplots(\n",
    "        dpi=1200,\n",
    "        figsize=(7,7),\n",
    "        sharex=False, sharey=True,\n",
    "        nrows=4, ncols=2,\n",
    "        constrained_layout=True,\n",
    "        subplot_kw={\"projection\": ccrs.PlateCarree()}\n",
    "    )\n",
    "ax = ax.flatten()\n",
    "titles= [\"a. Soil NO emissions (absolute change)\",  \"b. Soil NO emissions (relative change)\", \n",
    "        \"c. Biogenic isoprene emissions (absolute change)\",  \"d. Biogenic isoprene emissions (relative change)\", \n",
    "        \"e. PAN mixing ratios (absolute change)\",  \"f. PAN mixing ratios (relative change)\",\n",
    "         \"g. HO$_x$ mixing ratios (absolute change)\",  \"h. HO$_x$ mixing ratios (relative change)\"]\n",
    "\n",
    "vmins = [-0.5, -100, -2, -100, -0.1, -100, -2, -100]\n",
    "vmaxs = [0.5, 100, 2, 100, 0.1, 100, 2, 100]\n",
    "units = ['gN/m$^2$/yr', '% change', 'gC/m$^2$/yr', '% change', 'ppbv', '% change', 'pptv', '% change']\n",
    "for idx, z in enumerate([abs_diff_soilNO, \n",
    "                         pct_diff_soilNO,\n",
    "                         abs_diff_bioISOP, \n",
    "                         pct_diff_bioISOP,\n",
    "                         abs_diff_PAN, \n",
    "                         pct_diff_PAN,\n",
    "                         abs_diff_HOx,\n",
    "                         pct_diff_HOx]):\n",
    "\n",
    "    cmap = cmaps.BlueWhiteOrangeRed\n",
    "\n",
    "    plot = single_panel(plot_vals=z, \n",
    "                ax=ax[idx], gridtype=\"cs\", \n",
    "                comap=cmap,\n",
    "                extent=(-175, 175, 0, 75), \n",
    "                vmin=vmins[idx], vmax=vmaxs[idx],\n",
    "                unit=units[idx],\n",
    "                title=None,\n",
    "                add_cb=True)\n",
    "\n",
    "    ax[idx].coastlines(linewidth=0.5)\n",
    "    country_borders = cfeature.NaturalEarthFeature(\n",
    "        category=\"cultural\",\n",
    "        name=\"admin_0_boundary_lines_land\",\n",
    "        scale=\"50m\",\n",
    "        facecolor=\"none\",\n",
    "    )\n",
    "    ax[idx].add_feature(country_borders, edgecolor=\"gray\", linewidth=0.5)\n",
    "    ax[idx].set_extent([-175, 175, 0, 75], crs=ccrs.PlateCarree())\n",
    "    ax[idx].set_title(titles[idx], loc='left', size=10)\n",
    "\n",
    "    if idx > 5: # bottom panels have xticklabels\n",
    "        ax[idx].set_xticks([-120, -60, 0, 60, 120])\n",
    "        ax[idx].set_xticklabels(\n",
    "            ['120°W', '60°W', '0°', '60°E', '120°E'], fontsize=8)\n",
    "        ax[idx].set_yticks([0,25,50,75])\n",
    "        ax[idx].set_yticklabels(\n",
    "            ['0°N', '25°N', '50°N', '75°N'], fontsize=8)\n",
    "    else:\n",
    "        ax[idx].set_xticks([-120, -60, 0, 60, 120])\n",
    "        ax[idx].set_xticklabels(['', '', '', '', ''], fontsize=8)\n",
    "        ax[idx].set_yticks([0,25,50,75])\n",
    "        ax[idx].set_yticklabels(\n",
    "            ['0°N', '25°N', '50°N', '75°N'], fontsize=8)\n",
    "\n",
    "    # Add boxes around the IPCC AR6 regions\n",
    "    ar6 = regionmask.defined_regions.ar6.all\n",
    "    ar6[5,17].plot(ax=ax[idx],\n",
    "        add_ocean=False,\n",
    "        projection=ccrs.PlateCarree(),\n",
    "        add_label=False,\n",
    "        line_kws=dict(lw=1)\n",
    "    )\n",
    "\n",
    "    # For EAS we use a modified polygon that captures a more homogeneous response\n",
    "    new_EAS = np.array([[117,45], [109,37], [109,30], [134,30], [134,30], [150,45]])\n",
    "    new_EAS_region = regionmask.Regions([new_EAS], name=\"new_EAS\")\n",
    "    new_EAS_region.plot_regions(add_label=False, ax=ax[idx], line_kws=dict(lw=1))\n",
    "\n",
    "##########\n",
    "plt.savefig(\"FigS7_new.png\")\n"
   ]
  }
 ],
 "metadata": {
  "kernelspec": {
   "display_name": "OZCLIM-env",
   "language": "python",
   "name": "python3"
  },
  "language_info": {
   "codemirror_mode": {
    "name": "ipython",
    "version": 3
   },
   "file_extension": ".py",
   "mimetype": "text/x-python",
   "name": "python",
   "nbconvert_exporter": "python",
   "pygments_lexer": "ipython3",
   "version": "3.10.6"
  }
 },
 "nbformat": 4,
 "nbformat_minor": 2
}
